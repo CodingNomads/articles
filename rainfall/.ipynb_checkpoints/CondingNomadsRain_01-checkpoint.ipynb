{
 "cells": [
  {
   "cell_type": "markdown",
   "metadata": {},
   "source": [
    "# Rainfall in Australia"
   ]
  },
  {
   "cell_type": "markdown",
   "metadata": {},
   "source": [
    " **The things that really change the world, according to <a href=\"https://en.wikipedia.org/wiki/Chaos_theory\" target=\"_blank\">Chaos Theory</a>, are the tiny things. A butterfly flaps its wings in the Amazonian jungle, and subsequently a storm ravages half of Australia.**"
   ]
  },
  {
   "cell_type": "markdown",
   "metadata": {},
   "source": [
    "# Introduction"
   ]
  },
  {
   "cell_type": "markdown",
   "metadata": {},
   "source": [
    "You are given the task of predicting if it will rain tomorrow in cities of Australia. You can easily get lost if you don’t have a structured methodology to guide your way and you will use <a href=\"https://en.wikipedia.org/wiki/Cross-industry_standard_process_for_data_mining\" target=\"_blank\">CRISP-DM</a> in this project."
   ]
  },
  {
   "cell_type": "markdown",
   "metadata": {},
   "source": [
    "<img src=\"images/crisp_dm.png\" width=350 height=350 />"
   ]
  },
  {
   "cell_type": "markdown",
   "metadata": {},
   "source": [
    "Step by step you will:\n",
    "\n",
    "- Learn about the domain\n",
    "- Understand what kind of data you have\n",
    "- Explore and prepare it for machine learning\n",
    "- Build your first model\n",
    "- Interpret your findings\n",
    "- Get ready for deployment\n",
    "\n",
    "It is quite a lot, so let's get started!"
   ]
  },
  {
   "cell_type": "markdown",
   "metadata": {},
   "source": [
    "# 1. Business Understanding\n",
    "    The Zen: First seek to understand then be understood..."
   ]
  },
  {
   "cell_type": "markdown",
   "metadata": {},
   "source": [
    "Everything starts with business understanding. You don’t dive head first into coding like those Kaggle heroes. Without learning about the business you can’t figure out what to do with the data you have and also you can’t communicate your results with your colleagues. Generally you set up meetings with domain experts and read papers to learn about the domain. "
   ]
  },
  {
   "cell_type": "markdown",
   "metadata": {},
   "source": [
    "Talking to domain experts or the business is critical because in the end you will have to “sell” your results to these people. You need to make sure their ideas are respected from the beginning. They will tell you great insights that you can code into your solution.\n"
   ]
  },
  {
   "cell_type": "markdown",
   "metadata": {},
   "source": [
    "So now, as a first step you will start learning about the climate and geography of Australia on your own, since you are a one-man-company in this tutorial."
   ]
  },
  {
   "cell_type": "markdown",
   "metadata": {},
   "source": [
    "We are in the business of weather forecasting which is a complex\n",
    "system. Complex doesn’t mean hard to understand but it means dozens of factors interacting and creating a causal diagram with balancing and reinforcing effects.\n"
   ]
  },
  {
   "cell_type": "markdown",
   "metadata": {},
   "source": [
    "A typical causal diagram is given below for demonstration purposes to show you the balancing and reinforcing effects:"
   ]
  },
  {
   "cell_type": "markdown",
   "metadata": {},
   "source": [
    "<img src=\"images/causal.png\" width=600 height=600 />"
   ]
  },
  {
   "cell_type": "markdown",
   "metadata": {},
   "source": [
    "These causal diagrams can capture what you can not see using simple flow charts. If you read <a href=\"https://www.amazon.com/Book-Why-Science-Cause-Effect/dp/046509760X\" target=\"_blank\">this book</a> it will help you to develop better *causal loops* and overall better projects. It may look chaotic at the beginning but anyway that’s what we are dealing with here: \n",
    "- An entire huge oceanic continent \n",
    "- Dozens of cities\n",
    "- At least 6 different climate zones \n",
    "- Large-scale atmospheric and oceanic drivers  \n",
    "- Suffering from greenhouse effects for decades! "
   ]
  },
  {
   "cell_type": "markdown",
   "metadata": {},
   "source": [
    "The climate analogies help you understand what to expect from different regions of Australia:\n"
   ]
  },
  {
   "cell_type": "markdown",
   "metadata": {},
   "source": [
    "<img src=\"images/climates.png\" width=600 height=600 />"
   ]
  },
  {
   "cell_type": "markdown",
   "metadata": {},
   "source": [
    "These climate zones can be listed as follows:\n",
    "1. Hot humid summer, warm winter \n",
    "2. Warm humid summer, mild winter \n",
    "3. Hot dry summer, warm winter \n",
    "4. Hot dry summer, cool winter\n",
    "5. Warm temperate \n",
    "6. Mild temperate \n",
    "7. Cool temperate \n",
    "8. Alpine (the island of Tanzania)\n"
   ]
  },
  {
   "cell_type": "markdown",
   "metadata": {},
   "source": [
    "It is not over. There are also the winds:"
   ]
  },
  {
   "cell_type": "markdown",
   "metadata": {},
   "source": [
    "<img src=\"images/winds.png\" width=600 height=600 />"
   ]
  },
  {
   "cell_type": "markdown",
   "metadata": {},
   "source": [
    "The climate experts never know if El Nino or La Nina would hit the continent in the current year in advance. And if it happens these will change the entire rainfall story with a big deal.\n",
    "\n",
    "But of course this doesn’t tell us about the rain seasons in a year which is also quite funny in Australia. The northern part of the continent is rainy from October to April, and the rest of the year is dry. The southern part has an opposite character: It expects the highest rain between April and November! \n",
    "\n",
    "The time of the year and location would play a significant part. \n",
    "The rain phenomena can happen under different levels of temperature in different climates. The Mediterrenean would expect it around 10-15 degrees while over 30 degrees is also normal for the Monsoon rain. \n"
   ]
  },
  {
   "cell_type": "markdown",
   "metadata": {},
   "source": [
    "Ok, right, but how much rain is rain? A quick search reveals this:\n",
    "- Light rain — when the precipitation rate is < 2.5 mm \n",
    "- Moderate rain — between 2.5 mm - 7.6 mm \n",
    "- Heavy rain — is > 7.6 mm \n",
    "- Violent rain — is > 50 mm\n"
   ]
  },
  {
   "cell_type": "markdown",
   "metadata": {},
   "source": [
    "As a result, the underlying causal model and the degree of randomness make the climate of Australia more challenging to predict and all your models should be presented keeping these in mind: Take it with a “grain of salt”. Remember, you are not a meteorology scientist and you are only scratching the surface here.\n"
   ]
  },
  {
   "cell_type": "markdown",
   "metadata": {},
   "source": [
    "However, thanks to your studies and research you are more confident to have a coffee with your meteorologist colleagues and you can ask them more meaningful questions!"
   ]
  },
  {
   "cell_type": "markdown",
   "metadata": {},
   "source": [
    "\n",
    "Now, let’s read the data and understand how these so-called rain events look like.\n"
   ]
  },
  {
   "cell_type": "markdown",
   "metadata": {},
   "source": [
    "# 2. Data Understanding\n",
    "    The Zen: You can't know if it rained or not, if there is no tomorrow..."
   ]
  },
  {
   "cell_type": "markdown",
   "metadata": {},
   "source": [
    "You start by importing the libraries you will use:"
   ]
  },
  {
   "cell_type": "code",
   "execution_count": 1,
   "metadata": {},
   "outputs": [],
   "source": [
    "import pandas as pd\n",
    "import numpy as np\n",
    "\n",
    "import seaborn as sns\n",
    "import matplotlib.pyplot as plt\n",
    "\n",
    "pd.set_option('display.max_columns', 500)\n",
    "pd.set_option('display.max_rows', 500)\n",
    "\n",
    "import warnings\n",
    "warnings.filterwarnings('ignore')"
   ]
  },
  {
   "cell_type": "markdown",
   "metadata": {},
   "source": [
    "Next you read your data into a `pandas` DataFrame and check how it looks like calling the `head()` function:"
   ]
  },
  {
   "cell_type": "code",
   "execution_count": 2,
   "metadata": {},
   "outputs": [],
   "source": [
    "data_path = \"data/rawdata_class.csv\"\n",
    "\n",
    "df = (pd\n",
    "      .read_csv(data_path, index_col=[0]) # pass your path to read_csv:\n",
    "      .sort_values([\"Location\",\"Date\"]) # make sure you have an order by Location and Date\n",
    "     )"
   ]
  },
  {
   "cell_type": "code",
   "execution_count": 3,
   "metadata": {},
   "outputs": [
    {
     "data": {
      "text/html": [
       "<div>\n",
       "<style scoped>\n",
       "    .dataframe tbody tr th:only-of-type {\n",
       "        vertical-align: middle;\n",
       "    }\n",
       "\n",
       "    .dataframe tbody tr th {\n",
       "        vertical-align: top;\n",
       "    }\n",
       "\n",
       "    .dataframe thead th {\n",
       "        text-align: right;\n",
       "    }\n",
       "</style>\n",
       "<table border=\"1\" class=\"dataframe\">\n",
       "  <thead>\n",
       "    <tr style=\"text-align: right;\">\n",
       "      <th></th>\n",
       "      <th>Date</th>\n",
       "      <th>Location</th>\n",
       "      <th>MinTemp</th>\n",
       "      <th>MaxTemp</th>\n",
       "      <th>Evaporation</th>\n",
       "      <th>Sunshine</th>\n",
       "      <th>WindGustDir</th>\n",
       "      <th>WindGustSpeed</th>\n",
       "      <th>WindDir9am</th>\n",
       "      <th>WindDir3pm</th>\n",
       "      <th>WindSpeed9am</th>\n",
       "      <th>WindSpeed3pm</th>\n",
       "      <th>Humidity9am</th>\n",
       "      <th>Humidity3pm</th>\n",
       "      <th>Pressure9am</th>\n",
       "      <th>Pressure3pm</th>\n",
       "      <th>Cloud9am</th>\n",
       "      <th>Cloud3pm</th>\n",
       "      <th>Temp9am</th>\n",
       "      <th>Temp3pm</th>\n",
       "      <th>RainToday</th>\n",
       "    </tr>\n",
       "  </thead>\n",
       "  <tbody>\n",
       "    <tr>\n",
       "      <th>93856</th>\n",
       "      <td>2008-07-01</td>\n",
       "      <td>Adelaide</td>\n",
       "      <td>8.8</td>\n",
       "      <td>15.7</td>\n",
       "      <td>1.6</td>\n",
       "      <td>2.6</td>\n",
       "      <td>NW</td>\n",
       "      <td>48.0</td>\n",
       "      <td>SW</td>\n",
       "      <td>W</td>\n",
       "      <td>13.0</td>\n",
       "      <td>15.0</td>\n",
       "      <td>92.0</td>\n",
       "      <td>67.0</td>\n",
       "      <td>1017.4</td>\n",
       "      <td>1017.7</td>\n",
       "      <td>NaN</td>\n",
       "      <td>NaN</td>\n",
       "      <td>13.5</td>\n",
       "      <td>14.9</td>\n",
       "      <td>Yes</td>\n",
       "    </tr>\n",
       "    <tr>\n",
       "      <th>93857</th>\n",
       "      <td>2008-07-02</td>\n",
       "      <td>Adelaide</td>\n",
       "      <td>12.7</td>\n",
       "      <td>15.8</td>\n",
       "      <td>1.4</td>\n",
       "      <td>7.8</td>\n",
       "      <td>SW</td>\n",
       "      <td>35.0</td>\n",
       "      <td>SSW</td>\n",
       "      <td>SW</td>\n",
       "      <td>13.0</td>\n",
       "      <td>15.0</td>\n",
       "      <td>75.0</td>\n",
       "      <td>52.0</td>\n",
       "      <td>1022.4</td>\n",
       "      <td>1022.6</td>\n",
       "      <td>NaN</td>\n",
       "      <td>NaN</td>\n",
       "      <td>13.7</td>\n",
       "      <td>15.5</td>\n",
       "      <td>No</td>\n",
       "    </tr>\n",
       "    <tr>\n",
       "      <th>93858</th>\n",
       "      <td>2008-07-03</td>\n",
       "      <td>Adelaide</td>\n",
       "      <td>6.2</td>\n",
       "      <td>15.1</td>\n",
       "      <td>1.8</td>\n",
       "      <td>2.1</td>\n",
       "      <td>W</td>\n",
       "      <td>20.0</td>\n",
       "      <td>NNE</td>\n",
       "      <td>SW</td>\n",
       "      <td>2.0</td>\n",
       "      <td>11.0</td>\n",
       "      <td>81.0</td>\n",
       "      <td>56.0</td>\n",
       "      <td>1027.8</td>\n",
       "      <td>1026.5</td>\n",
       "      <td>NaN</td>\n",
       "      <td>NaN</td>\n",
       "      <td>9.3</td>\n",
       "      <td>13.9</td>\n",
       "      <td>No</td>\n",
       "    </tr>\n",
       "    <tr>\n",
       "      <th>93859</th>\n",
       "      <td>2008-07-04</td>\n",
       "      <td>Adelaide</td>\n",
       "      <td>5.3</td>\n",
       "      <td>15.9</td>\n",
       "      <td>1.4</td>\n",
       "      <td>8.0</td>\n",
       "      <td>NNE</td>\n",
       "      <td>30.0</td>\n",
       "      <td>NNE</td>\n",
       "      <td>NE</td>\n",
       "      <td>6.0</td>\n",
       "      <td>13.0</td>\n",
       "      <td>71.0</td>\n",
       "      <td>46.0</td>\n",
       "      <td>1028.7</td>\n",
       "      <td>1025.6</td>\n",
       "      <td>NaN</td>\n",
       "      <td>NaN</td>\n",
       "      <td>10.2</td>\n",
       "      <td>15.3</td>\n",
       "      <td>No</td>\n",
       "    </tr>\n",
       "    <tr>\n",
       "      <th>93860</th>\n",
       "      <td>2008-07-06</td>\n",
       "      <td>Adelaide</td>\n",
       "      <td>11.3</td>\n",
       "      <td>15.7</td>\n",
       "      <td>NaN</td>\n",
       "      <td>1.5</td>\n",
       "      <td>NNW</td>\n",
       "      <td>52.0</td>\n",
       "      <td>NNE</td>\n",
       "      <td>NNW</td>\n",
       "      <td>15.0</td>\n",
       "      <td>22.0</td>\n",
       "      <td>62.0</td>\n",
       "      <td>62.0</td>\n",
       "      <td>1019.5</td>\n",
       "      <td>1016.2</td>\n",
       "      <td>NaN</td>\n",
       "      <td>NaN</td>\n",
       "      <td>13.0</td>\n",
       "      <td>14.4</td>\n",
       "      <td>NaN</td>\n",
       "    </tr>\n",
       "  </tbody>\n",
       "</table>\n",
       "</div>"
      ],
      "text/plain": [
       "             Date  Location  MinTemp  MaxTemp  Evaporation  Sunshine  \\\n",
       "93856  2008-07-01  Adelaide      8.8     15.7          1.6       2.6   \n",
       "93857  2008-07-02  Adelaide     12.7     15.8          1.4       7.8   \n",
       "93858  2008-07-03  Adelaide      6.2     15.1          1.8       2.1   \n",
       "93859  2008-07-04  Adelaide      5.3     15.9          1.4       8.0   \n",
       "93860  2008-07-06  Adelaide     11.3     15.7          NaN       1.5   \n",
       "\n",
       "      WindGustDir  WindGustSpeed WindDir9am WindDir3pm  WindSpeed9am  \\\n",
       "93856          NW           48.0         SW          W          13.0   \n",
       "93857          SW           35.0        SSW         SW          13.0   \n",
       "93858           W           20.0        NNE         SW           2.0   \n",
       "93859         NNE           30.0        NNE         NE           6.0   \n",
       "93860         NNW           52.0        NNE        NNW          15.0   \n",
       "\n",
       "       WindSpeed3pm  Humidity9am  Humidity3pm  Pressure9am  Pressure3pm  \\\n",
       "93856          15.0         92.0         67.0       1017.4       1017.7   \n",
       "93857          15.0         75.0         52.0       1022.4       1022.6   \n",
       "93858          11.0         81.0         56.0       1027.8       1026.5   \n",
       "93859          13.0         71.0         46.0       1028.7       1025.6   \n",
       "93860          22.0         62.0         62.0       1019.5       1016.2   \n",
       "\n",
       "       Cloud9am  Cloud3pm  Temp9am  Temp3pm RainToday  \n",
       "93856       NaN       NaN     13.5     14.9       Yes  \n",
       "93857       NaN       NaN     13.7     15.5        No  \n",
       "93858       NaN       NaN      9.3     13.9        No  \n",
       "93859       NaN       NaN     10.2     15.3        No  \n",
       "93860       NaN       NaN     13.0     14.4       NaN  "
      ]
     },
     "execution_count": 3,
     "metadata": {},
     "output_type": "execute_result"
    }
   ],
   "source": [
    "df.head()"
   ]
  },
  {
   "cell_type": "markdown",
   "metadata": {},
   "source": [
    "You read what columns you have:"
   ]
  },
  {
   "cell_type": "code",
   "execution_count": 4,
   "metadata": {},
   "outputs": [
    {
     "data": {
      "text/plain": [
       "Index(['Date', 'Location', 'MinTemp', 'MaxTemp', 'Evaporation', 'Sunshine',\n",
       "       'WindGustDir', 'WindGustSpeed', 'WindDir9am', 'WindDir3pm',\n",
       "       'WindSpeed9am', 'WindSpeed3pm', 'Humidity9am', 'Humidity3pm',\n",
       "       'Pressure9am', 'Pressure3pm', 'Cloud9am', 'Cloud3pm', 'Temp9am',\n",
       "       'Temp3pm', 'RainToday'],\n",
       "      dtype='object')"
      ]
     },
     "execution_count": 4,
     "metadata": {},
     "output_type": "execute_result"
    }
   ],
   "source": [
    "df.columns"
   ]
  },
  {
   "cell_type": "markdown",
   "metadata": {},
   "source": [
    "You need to predict if it will rain tomorrow but the only information you have here is `RainToday`. This is going to be a puzzle you will need to solve."
   ]
  },
  {
   "cell_type": "markdown",
   "metadata": {},
   "source": [
    "The explanations of these columns are given in `description.md` file inside the project. However, most of them should be quite straight forward. They mainly talk about meteorological measurements like humidity and wind speed and direction."
   ]
  },
  {
   "cell_type": "markdown",
   "metadata": {},
   "source": [
    "## Learning about the locations"
   ]
  },
  {
   "cell_type": "markdown",
   "metadata": {},
   "source": [
    "There are a lot to discover but, you first want to see some visualizations based on `Location`. This will help you to see the big picture and drill down your understanding from continent level to city level."
   ]
  },
  {
   "cell_type": "markdown",
   "metadata": {},
   "source": [
    "How many *unique* locations do we have and what are they anyway? You just use the `unique()` method to get this information:"
   ]
  },
  {
   "cell_type": "code",
   "execution_count": 5,
   "metadata": {},
   "outputs": [],
   "source": [
    "locations = df[\"Location\"].unique()"
   ]
  },
  {
   "cell_type": "markdown",
   "metadata": {},
   "source": [
    "Now the `locations` variable holds the answer to your question. You can simply print it out and its length:"
   ]
  },
  {
   "cell_type": "code",
   "execution_count": 6,
   "metadata": {},
   "outputs": [
    {
     "data": {
      "text/plain": [
       "(49,\n",
       " array(['Adelaide', 'Albany', 'Albury', 'AliceSprings', 'BadgerysCreek',\n",
       "        'Ballarat', 'Bendigo', 'Brisbane', 'Cairns', 'Canberra', 'Cobar',\n",
       "        'CoffsHarbour', 'Dartmoor', 'Darwin', 'GoldCoast', 'Hobart',\n",
       "        'Katherine', 'Launceston', 'Melbourne', 'MelbourneAirport',\n",
       "        'Mildura', 'Moree', 'MountGambier', 'MountGinini', 'Newcastle',\n",
       "        'Nhil', 'NorahHead', 'NorfolkIsland', 'Nuriootpa', 'PearceRAAF',\n",
       "        'Penrith', 'Perth', 'PerthAirport', 'Portland', 'Richmond', 'Sale',\n",
       "        'SalmonGums', 'Sydney', 'SydneyAirport', 'Townsville',\n",
       "        'Tuggeranong', 'Uluru', 'WaggaWagga', 'Walpole', 'Watsonia',\n",
       "        'Williamtown', 'Witchcliffe', 'Wollongong', 'Woomera'],\n",
       "       dtype=object))"
      ]
     },
     "execution_count": 6,
     "metadata": {},
     "output_type": "execute_result"
    }
   ],
   "source": [
    "len(locations), locations"
   ]
  },
  {
   "cell_type": "markdown",
   "metadata": {},
   "source": [
    "You have 49 nice locations and you want to explore them! We can use some visualizion tools available in `matplotlib` library in combination with `pandas`.\n",
    "\n",
    "Taking a look into the moving average of rain events by these cities can be interesting. What does this mean? You first define a window you will slide over time. Let's says your window is 10. If it rained 2 times in the past 10 days the average will be 0.2\n",
    "\n",
    "This average would change if you start moving this time window over time. That's how a typical rolling average works and in this case it would give you an intiution about the city you are interested in.\n",
    "\n",
    "You see in the above `head()` summary that the `RainToday` variable is encoded with strings: *Yes* and *No*. You can't take and average of strings. So you first need to convert them into `1`s and `0`s.\n",
    "\n",
    "The next chunk of code does exactly this:"
   ]
  },
  {
   "cell_type": "code",
   "execution_count": 7,
   "metadata": {},
   "outputs": [],
   "source": [
    "# create your conditions:\n",
    "cond0 = df[\"RainToday\"] == \"Yes\"\n",
    "cond1 = df[\"RainToday\"] == \"No\"\n",
    "\n",
    "# pass your conditions to filter and set the numeric column values:\n",
    "df.loc[df[cond0].index, \"RainToday\"] = 1.0\n",
    "df.loc[df[cond1].index, \"RainToday\"] = 0.0"
   ]
  },
  {
   "cell_type": "markdown",
   "metadata": {},
   "source": [
    "You create a procedure to select a random city from the `locations` variable:"
   ]
  },
  {
   "cell_type": "code",
   "execution_count": 8,
   "metadata": {},
   "outputs": [],
   "source": [
    "random_location = np.random.choice(locations)"
   ]
  },
  {
   "cell_type": "markdown",
   "metadata": {},
   "source": [
    "and the winner location is:"
   ]
  },
  {
   "cell_type": "code",
   "execution_count": 9,
   "metadata": {},
   "outputs": [
    {
     "name": "stdout",
     "output_type": "stream",
     "text": [
      "MountGambier\n"
     ]
    }
   ],
   "source": [
    "print(random_location)"
   ]
  },
  {
   "cell_type": "markdown",
   "metadata": {},
   "source": [
    "Next you want to visualize this city but the dataframe contains all the cities. You need to create a condition and filter for the `random_location`. "
   ]
  },
  {
   "cell_type": "code",
   "execution_count": 10,
   "metadata": {},
   "outputs": [],
   "source": [
    "# create a condition for the randomly selected city\n",
    "cond = df[\"Location\"] == random_location"
   ]
  },
  {
   "cell_type": "markdown",
   "metadata": {},
   "source": [
    "You will pass this condition to the DataFrame to filter only for the given location. The variable that you want to visualize is a 90 day rolling average of `RainToday` variable. The idea of 90 days is arbitrary. You are encouraged to try out 30 or 45 day averages as well. You will do both of these operations in a chain reaction below:"
   ]
  },
  {
   "cell_type": "code",
   "execution_count": 11,
   "metadata": {},
   "outputs": [],
   "source": [
    "# create a y variable to visualize\n",
    "y = (df[cond] # apply your condition\n",
    "    .loc[:, \"RainToday\"] # select the variable\n",
    "    .rolling(90).mean().values) # compute moving average"
   ]
  },
  {
   "cell_type": "markdown",
   "metadata": {},
   "source": [
    "Congrats! You have just created a vector (or array) that you can plot quickly. Let's print and see how it looks like:"
   ]
  },
  {
   "cell_type": "code",
   "execution_count": 12,
   "metadata": {},
   "outputs": [
    {
     "name": "stdout",
     "output_type": "stream",
     "text": [
      "[0.1        0.1        0.1        0.1        0.1        0.11111111]\n"
     ]
    }
   ],
   "source": [
    "print(y[120:126])"
   ]
  },
  {
   "cell_type": "markdown",
   "metadata": {},
   "source": [
    "Now the interesting part starts. How to put this array into a chart...\n",
    "\n",
    "At the beginning you already imported the `matplotlib` library as `plt`. You will call a few methods to achive building a chart:"
   ]
  },
  {
   "cell_type": "code",
   "execution_count": 13,
   "metadata": {},
   "outputs": [
    {
     "data": {
      "image/png": "[encoded data removed]",
      "text/plain": [
       "<Figure size 1440x216 with 1 Axes>"
      ]
     },
     "metadata": {
      "needs_background": "light"
     },
     "output_type": "display_data"
    }
   ],
   "source": [
    "plt.figure(figsize=(20,3)) # create a 20 by 3 plot area\n",
    "plt.plot(y) # place the y into the plot area\n",
    "plt.title(f\"90 Day Moving Average of Rain Event in {random_location}\") # give a title!\n",
    "plt.show() # and finally show the plot"
   ]
  },
  {
   "cell_type": "markdown",
   "metadata": {},
   "source": [
    "You realize that there should be more than 3000 records for this location which makes sense. But what the hell are those periods without data? You were expecting to see a beautiful continuous moving average over time. Who is killing your fun?"
   ]
  },
  {
   "cell_type": "markdown",
   "metadata": {},
   "source": [
    "You see the chart of another location using the same code you wrote above:"
   ]
  },
  {
   "cell_type": "code",
   "execution_count": 15,
   "metadata": {},
   "outputs": [
    {
     "data": {
      "image/png": "[encoded data removed]",
      "text/plain": [
       "<Figure size 1440x216 with 1 Axes>"
      ]
     },
     "metadata": {
      "needs_background": "light"
     },
     "output_type": "display_data"
    }
   ],
   "source": [
    "random_location = np.random.choice(locations)\n",
    "cond = df[\"Location\"] == random_location\n",
    "\n",
    "y = (df[cond] \n",
    "    .loc[:, \"RainToday\"] \n",
    "    .rolling(90).mean().values)\n",
    "\n",
    "plt.figure(figsize=(20,3)) \n",
    "plt.plot(y) \n",
    "plt.title(f\"90 Day Moving Average of Rain Event in {random_location}\") \n",
    "plt.show() "
   ]
  },
  {
   "cell_type": "markdown",
   "metadata": {},
   "source": [
    "After trying out with several randomly chosen cities you over and over see that there are gaps. So there were short and long breaks where the rain events were not recorded. You select 3 relevant columns to see this:"
   ]
  },
  {
   "cell_type": "code",
   "execution_count": 16,
   "metadata": {},
   "outputs": [
    {
     "data": {
      "text/html": [
       "<div>\n",
       "<style scoped>\n",
       "    .dataframe tbody tr th:only-of-type {\n",
       "        vertical-align: middle;\n",
       "    }\n",
       "\n",
       "    .dataframe tbody tr th {\n",
       "        vertical-align: top;\n",
       "    }\n",
       "\n",
       "    .dataframe thead th {\n",
       "        text-align: right;\n",
       "    }\n",
       "</style>\n",
       "<table border=\"1\" class=\"dataframe\">\n",
       "  <thead>\n",
       "    <tr style=\"text-align: right;\">\n",
       "      <th></th>\n",
       "      <th>Date</th>\n",
       "      <th>Location</th>\n",
       "      <th>RainToday</th>\n",
       "    </tr>\n",
       "  </thead>\n",
       "  <tbody>\n",
       "    <tr>\n",
       "      <th>93856</th>\n",
       "      <td>2008-07-01</td>\n",
       "      <td>Adelaide</td>\n",
       "      <td>1</td>\n",
       "    </tr>\n",
       "    <tr>\n",
       "      <th>93857</th>\n",
       "      <td>2008-07-02</td>\n",
       "      <td>Adelaide</td>\n",
       "      <td>0</td>\n",
       "    </tr>\n",
       "    <tr>\n",
       "      <th>93858</th>\n",
       "      <td>2008-07-03</td>\n",
       "      <td>Adelaide</td>\n",
       "      <td>0</td>\n",
       "    </tr>\n",
       "    <tr>\n",
       "      <th>93859</th>\n",
       "      <td>2008-07-04</td>\n",
       "      <td>Adelaide</td>\n",
       "      <td>0</td>\n",
       "    </tr>\n",
       "    <tr>\n",
       "      <th>93860</th>\n",
       "      <td>2008-07-06</td>\n",
       "      <td>Adelaide</td>\n",
       "      <td>NaN</td>\n",
       "    </tr>\n",
       "    <tr>\n",
       "      <th>93861</th>\n",
       "      <td>2008-07-07</td>\n",
       "      <td>Adelaide</td>\n",
       "      <td>1</td>\n",
       "    </tr>\n",
       "    <tr>\n",
       "      <th>93862</th>\n",
       "      <td>2008-07-08</td>\n",
       "      <td>Adelaide</td>\n",
       "      <td>1</td>\n",
       "    </tr>\n",
       "  </tbody>\n",
       "</table>\n",
       "</div>"
      ],
      "text/plain": [
       "             Date  Location RainToday\n",
       "93856  2008-07-01  Adelaide         1\n",
       "93857  2008-07-02  Adelaide         0\n",
       "93858  2008-07-03  Adelaide         0\n",
       "93859  2008-07-04  Adelaide         0\n",
       "93860  2008-07-06  Adelaide       NaN\n",
       "93861  2008-07-07  Adelaide         1\n",
       "93862  2008-07-08  Adelaide         1"
      ]
     },
     "execution_count": 16,
     "metadata": {},
     "output_type": "execute_result"
    }
   ],
   "source": [
    "df[[\"Date\", \"Location\", \"RainToday\"]].head(7)"
   ]
  },
  {
   "cell_type": "markdown",
   "metadata": {},
   "source": [
    "You don't know if it rained or not on 6th of July. The gap you see above can change from 1 day to several days. This has significant impact on your work:\n",
    "\n",
    "- NaN values intervene with moving average computation, generating periods without average.\n",
    "- Because you want to predict if it rained or not tomorrow. And as you can see sometimes there is no record for tomorrow. It jumps from 4th of July to 6th of July!\n",
    "\n",
    "\n",
    "    And if there is no tomorrow, \n",
    "        you can't know if it rained or not..."
   ]
  },
  {
   "cell_type": "markdown",
   "metadata": {},
   "source": [
    "# 3. Data Preparation\n",
    "    The Zen: Geographical proximity is your destiny"
   ]
  },
  {
   "cell_type": "markdown",
   "metadata": {},
   "source": [
    "There is an unusual dilemma for you here. The expectation is to predict tomorrow but you have the variable for today only, that is `RainToday` in the dataset. The reality is yesterday's parameters should be predictors for the rain event today. Or we can say today's parameters should be the predictors for the rain event tomorrow. Both approaches are the same and you can achive it by shifting the `RainToday` variable 1 row up and renaming it `RainTomorrow`.\n",
    "\n",
    "This might sound super straight forward but remember what you have discovered in the previous chapter. The continuation is broken. You have consecutive days of data collection ending with breaks and sometimes we don't know if it rained or not. Because of this reason, simply *shifting* `RainToday` by 1 row for each location will not be the right action. Instead you are forced to think about sequences (or time intervals, or streaks) where you can always have rain event recorded for the following day."
   ]
  },
  {
   "cell_type": "markdown",
   "metadata": {},
   "source": [
    "## A. Drop NAs\n",
    "- You will drop the rows without rain information:"
   ]
  },
  {
   "cell_type": "code",
   "execution_count": 17,
   "metadata": {},
   "outputs": [],
   "source": [
    "df2 = df[df['RainToday'].notna()]"
   ]
  },
  {
   "cell_type": "markdown",
   "metadata": {},
   "source": [
    "Checkout the result:"
   ]
  },
  {
   "cell_type": "code",
   "execution_count": 18,
   "metadata": {},
   "outputs": [
    {
     "data": {
      "text/html": [
       "<div>\n",
       "<style scoped>\n",
       "    .dataframe tbody tr th:only-of-type {\n",
       "        vertical-align: middle;\n",
       "    }\n",
       "\n",
       "    .dataframe tbody tr th {\n",
       "        vertical-align: top;\n",
       "    }\n",
       "\n",
       "    .dataframe thead th {\n",
       "        text-align: right;\n",
       "    }\n",
       "</style>\n",
       "<table border=\"1\" class=\"dataframe\">\n",
       "  <thead>\n",
       "    <tr style=\"text-align: right;\">\n",
       "      <th></th>\n",
       "      <th>Date</th>\n",
       "      <th>Location</th>\n",
       "      <th>MinTemp</th>\n",
       "      <th>MaxTemp</th>\n",
       "      <th>Evaporation</th>\n",
       "      <th>Sunshine</th>\n",
       "      <th>WindGustDir</th>\n",
       "      <th>WindGustSpeed</th>\n",
       "      <th>WindDir9am</th>\n",
       "      <th>WindDir3pm</th>\n",
       "      <th>WindSpeed9am</th>\n",
       "      <th>WindSpeed3pm</th>\n",
       "      <th>Humidity9am</th>\n",
       "      <th>Humidity3pm</th>\n",
       "      <th>Pressure9am</th>\n",
       "      <th>Pressure3pm</th>\n",
       "      <th>Cloud9am</th>\n",
       "      <th>Cloud3pm</th>\n",
       "      <th>Temp9am</th>\n",
       "      <th>Temp3pm</th>\n",
       "      <th>RainToday</th>\n",
       "    </tr>\n",
       "  </thead>\n",
       "  <tbody>\n",
       "    <tr>\n",
       "      <th>93856</th>\n",
       "      <td>2008-07-01</td>\n",
       "      <td>Adelaide</td>\n",
       "      <td>8.8</td>\n",
       "      <td>15.7</td>\n",
       "      <td>1.6</td>\n",
       "      <td>2.6</td>\n",
       "      <td>NW</td>\n",
       "      <td>48.0</td>\n",
       "      <td>SW</td>\n",
       "      <td>W</td>\n",
       "      <td>13.0</td>\n",
       "      <td>15.0</td>\n",
       "      <td>92.0</td>\n",
       "      <td>67.0</td>\n",
       "      <td>1017.4</td>\n",
       "      <td>1017.7</td>\n",
       "      <td>NaN</td>\n",
       "      <td>NaN</td>\n",
       "      <td>13.5</td>\n",
       "      <td>14.9</td>\n",
       "      <td>1</td>\n",
       "    </tr>\n",
       "    <tr>\n",
       "      <th>93857</th>\n",
       "      <td>2008-07-02</td>\n",
       "      <td>Adelaide</td>\n",
       "      <td>12.7</td>\n",
       "      <td>15.8</td>\n",
       "      <td>1.4</td>\n",
       "      <td>7.8</td>\n",
       "      <td>SW</td>\n",
       "      <td>35.0</td>\n",
       "      <td>SSW</td>\n",
       "      <td>SW</td>\n",
       "      <td>13.0</td>\n",
       "      <td>15.0</td>\n",
       "      <td>75.0</td>\n",
       "      <td>52.0</td>\n",
       "      <td>1022.4</td>\n",
       "      <td>1022.6</td>\n",
       "      <td>NaN</td>\n",
       "      <td>NaN</td>\n",
       "      <td>13.7</td>\n",
       "      <td>15.5</td>\n",
       "      <td>0</td>\n",
       "    </tr>\n",
       "    <tr>\n",
       "      <th>93858</th>\n",
       "      <td>2008-07-03</td>\n",
       "      <td>Adelaide</td>\n",
       "      <td>6.2</td>\n",
       "      <td>15.1</td>\n",
       "      <td>1.8</td>\n",
       "      <td>2.1</td>\n",
       "      <td>W</td>\n",
       "      <td>20.0</td>\n",
       "      <td>NNE</td>\n",
       "      <td>SW</td>\n",
       "      <td>2.0</td>\n",
       "      <td>11.0</td>\n",
       "      <td>81.0</td>\n",
       "      <td>56.0</td>\n",
       "      <td>1027.8</td>\n",
       "      <td>1026.5</td>\n",
       "      <td>NaN</td>\n",
       "      <td>NaN</td>\n",
       "      <td>9.3</td>\n",
       "      <td>13.9</td>\n",
       "      <td>0</td>\n",
       "    </tr>\n",
       "    <tr>\n",
       "      <th>93859</th>\n",
       "      <td>2008-07-04</td>\n",
       "      <td>Adelaide</td>\n",
       "      <td>5.3</td>\n",
       "      <td>15.9</td>\n",
       "      <td>1.4</td>\n",
       "      <td>8.0</td>\n",
       "      <td>NNE</td>\n",
       "      <td>30.0</td>\n",
       "      <td>NNE</td>\n",
       "      <td>NE</td>\n",
       "      <td>6.0</td>\n",
       "      <td>13.0</td>\n",
       "      <td>71.0</td>\n",
       "      <td>46.0</td>\n",
       "      <td>1028.7</td>\n",
       "      <td>1025.6</td>\n",
       "      <td>NaN</td>\n",
       "      <td>NaN</td>\n",
       "      <td>10.2</td>\n",
       "      <td>15.3</td>\n",
       "      <td>0</td>\n",
       "    </tr>\n",
       "    <tr>\n",
       "      <th>93861</th>\n",
       "      <td>2008-07-07</td>\n",
       "      <td>Adelaide</td>\n",
       "      <td>7.6</td>\n",
       "      <td>11.2</td>\n",
       "      <td>4.6</td>\n",
       "      <td>1.1</td>\n",
       "      <td>WSW</td>\n",
       "      <td>46.0</td>\n",
       "      <td>WNW</td>\n",
       "      <td>SW</td>\n",
       "      <td>17.0</td>\n",
       "      <td>13.0</td>\n",
       "      <td>83.0</td>\n",
       "      <td>88.0</td>\n",
       "      <td>1015.9</td>\n",
       "      <td>1017.9</td>\n",
       "      <td>NaN</td>\n",
       "      <td>NaN</td>\n",
       "      <td>9.8</td>\n",
       "      <td>9.3</td>\n",
       "      <td>1</td>\n",
       "    </tr>\n",
       "    <tr>\n",
       "      <th>93862</th>\n",
       "      <td>2008-07-08</td>\n",
       "      <td>Adelaide</td>\n",
       "      <td>5.3</td>\n",
       "      <td>13.5</td>\n",
       "      <td>0.6</td>\n",
       "      <td>2.1</td>\n",
       "      <td>SW</td>\n",
       "      <td>43.0</td>\n",
       "      <td>SW</td>\n",
       "      <td>WSW</td>\n",
       "      <td>11.0</td>\n",
       "      <td>22.0</td>\n",
       "      <td>73.0</td>\n",
       "      <td>91.0</td>\n",
       "      <td>1025.8</td>\n",
       "      <td>1025.9</td>\n",
       "      <td>NaN</td>\n",
       "      <td>NaN</td>\n",
       "      <td>10.9</td>\n",
       "      <td>10.8</td>\n",
       "      <td>1</td>\n",
       "    </tr>\n",
       "    <tr>\n",
       "      <th>93863</th>\n",
       "      <td>2008-07-09</td>\n",
       "      <td>Adelaide</td>\n",
       "      <td>8.4</td>\n",
       "      <td>14.3</td>\n",
       "      <td>1.6</td>\n",
       "      <td>0.8</td>\n",
       "      <td>NW</td>\n",
       "      <td>41.0</td>\n",
       "      <td>N</td>\n",
       "      <td>NW</td>\n",
       "      <td>9.0</td>\n",
       "      <td>19.0</td>\n",
       "      <td>90.0</td>\n",
       "      <td>64.0</td>\n",
       "      <td>1025.8</td>\n",
       "      <td>1022.7</td>\n",
       "      <td>NaN</td>\n",
       "      <td>NaN</td>\n",
       "      <td>10.8</td>\n",
       "      <td>13.5</td>\n",
       "      <td>1</td>\n",
       "    </tr>\n",
       "  </tbody>\n",
       "</table>\n",
       "</div>"
      ],
      "text/plain": [
       "             Date  Location  MinTemp  MaxTemp  Evaporation  Sunshine  \\\n",
       "93856  2008-07-01  Adelaide      8.8     15.7          1.6       2.6   \n",
       "93857  2008-07-02  Adelaide     12.7     15.8          1.4       7.8   \n",
       "93858  2008-07-03  Adelaide      6.2     15.1          1.8       2.1   \n",
       "93859  2008-07-04  Adelaide      5.3     15.9          1.4       8.0   \n",
       "93861  2008-07-07  Adelaide      7.6     11.2          4.6       1.1   \n",
       "93862  2008-07-08  Adelaide      5.3     13.5          0.6       2.1   \n",
       "93863  2008-07-09  Adelaide      8.4     14.3          1.6       0.8   \n",
       "\n",
       "      WindGustDir  WindGustSpeed WindDir9am WindDir3pm  WindSpeed9am  \\\n",
       "93856          NW           48.0         SW          W          13.0   \n",
       "93857          SW           35.0        SSW         SW          13.0   \n",
       "93858           W           20.0        NNE         SW           2.0   \n",
       "93859         NNE           30.0        NNE         NE           6.0   \n",
       "93861         WSW           46.0        WNW         SW          17.0   \n",
       "93862          SW           43.0         SW        WSW          11.0   \n",
       "93863          NW           41.0          N         NW           9.0   \n",
       "\n",
       "       WindSpeed3pm  Humidity9am  Humidity3pm  Pressure9am  Pressure3pm  \\\n",
       "93856          15.0         92.0         67.0       1017.4       1017.7   \n",
       "93857          15.0         75.0         52.0       1022.4       1022.6   \n",
       "93858          11.0         81.0         56.0       1027.8       1026.5   \n",
       "93859          13.0         71.0         46.0       1028.7       1025.6   \n",
       "93861          13.0         83.0         88.0       1015.9       1017.9   \n",
       "93862          22.0         73.0         91.0       1025.8       1025.9   \n",
       "93863          19.0         90.0         64.0       1025.8       1022.7   \n",
       "\n",
       "       Cloud9am  Cloud3pm  Temp9am  Temp3pm RainToday  \n",
       "93856       NaN       NaN     13.5     14.9         1  \n",
       "93857       NaN       NaN     13.7     15.5         0  \n",
       "93858       NaN       NaN      9.3     13.9         0  \n",
       "93859       NaN       NaN     10.2     15.3         0  \n",
       "93861       NaN       NaN      9.8      9.3         1  \n",
       "93862       NaN       NaN     10.9     10.8         1  \n",
       "93863       NaN       NaN     10.8     13.5         1  "
      ]
     },
     "execution_count": 18,
     "metadata": {},
     "output_type": "execute_result"
    }
   ],
   "source": [
    "df2.head(7)"
   ]
  },
  {
   "cell_type": "markdown",
   "metadata": {},
   "source": [
    "You realize that when you removed the rows witn `NA`s in `RainToday` you also broke the continuation of the indicies. For example the index jumps from 93859 to 93861. You will use this information to your advantage next."
   ]
  },
  {
   "cell_type": "markdown",
   "metadata": {},
   "source": [
    "## B. Count the Intervals\n",
    "\n",
    "You will have 3 main steps here:\n",
    "\n",
    "- Create a flag for each interval's ending point\n",
    "- Create `RainTomorrow` variable using `RainToday`\n",
    "- Drop unnecessary columns in the end"
   ]
  },
  {
   "cell_type": "markdown",
   "metadata": {},
   "source": [
    "You make an explicit `index` column because you want to compare the current and the next indicies:"
   ]
  },
  {
   "cell_type": "code",
   "execution_count": 19,
   "metadata": {},
   "outputs": [],
   "source": [
    "df2[\"index_col\"] = df2.index"
   ]
  },
  {
   "cell_type": "markdown",
   "metadata": {},
   "source": [
    "Now you have a new column called `index`"
   ]
  },
  {
   "cell_type": "markdown",
   "metadata": {},
   "source": [
    "Create a new column called `next_index` using this `index` column by shifting it by 1 row up:"
   ]
  },
  {
   "cell_type": "code",
   "execution_count": 20,
   "metadata": {},
   "outputs": [],
   "source": [
    "df2[\"next_index\"] = df2[\"index_col\"].shift(-1)"
   ]
  },
  {
   "cell_type": "markdown",
   "metadata": {},
   "source": [
    "If you checkout the result you will see that it is nicely showing you the current and next indicies:"
   ]
  },
  {
   "cell_type": "code",
   "execution_count": 21,
   "metadata": {},
   "outputs": [
    {
     "data": {
      "text/html": [
       "<div>\n",
       "<style scoped>\n",
       "    .dataframe tbody tr th:only-of-type {\n",
       "        vertical-align: middle;\n",
       "    }\n",
       "\n",
       "    .dataframe tbody tr th {\n",
       "        vertical-align: top;\n",
       "    }\n",
       "\n",
       "    .dataframe thead th {\n",
       "        text-align: right;\n",
       "    }\n",
       "</style>\n",
       "<table border=\"1\" class=\"dataframe\">\n",
       "  <thead>\n",
       "    <tr style=\"text-align: right;\">\n",
       "      <th></th>\n",
       "      <th>Date</th>\n",
       "      <th>RainToday</th>\n",
       "      <th>index_col</th>\n",
       "      <th>next_index</th>\n",
       "    </tr>\n",
       "  </thead>\n",
       "  <tbody>\n",
       "    <tr>\n",
       "      <th>93856</th>\n",
       "      <td>2008-07-01</td>\n",
       "      <td>1</td>\n",
       "      <td>93856</td>\n",
       "      <td>93857.0</td>\n",
       "    </tr>\n",
       "    <tr>\n",
       "      <th>93857</th>\n",
       "      <td>2008-07-02</td>\n",
       "      <td>0</td>\n",
       "      <td>93857</td>\n",
       "      <td>93858.0</td>\n",
       "    </tr>\n",
       "    <tr>\n",
       "      <th>93858</th>\n",
       "      <td>2008-07-03</td>\n",
       "      <td>0</td>\n",
       "      <td>93858</td>\n",
       "      <td>93859.0</td>\n",
       "    </tr>\n",
       "    <tr>\n",
       "      <th>93859</th>\n",
       "      <td>2008-07-04</td>\n",
       "      <td>0</td>\n",
       "      <td>93859</td>\n",
       "      <td>93861.0</td>\n",
       "    </tr>\n",
       "    <tr>\n",
       "      <th>93861</th>\n",
       "      <td>2008-07-07</td>\n",
       "      <td>1</td>\n",
       "      <td>93861</td>\n",
       "      <td>93862.0</td>\n",
       "    </tr>\n",
       "    <tr>\n",
       "      <th>93862</th>\n",
       "      <td>2008-07-08</td>\n",
       "      <td>1</td>\n",
       "      <td>93862</td>\n",
       "      <td>93863.0</td>\n",
       "    </tr>\n",
       "    <tr>\n",
       "      <th>93863</th>\n",
       "      <td>2008-07-09</td>\n",
       "      <td>1</td>\n",
       "      <td>93863</td>\n",
       "      <td>93864.0</td>\n",
       "    </tr>\n",
       "  </tbody>\n",
       "</table>\n",
       "</div>"
      ],
      "text/plain": [
       "             Date RainToday  index_col  next_index\n",
       "93856  2008-07-01         1      93856     93857.0\n",
       "93857  2008-07-02         0      93857     93858.0\n",
       "93858  2008-07-03         0      93858     93859.0\n",
       "93859  2008-07-04         0      93859     93861.0\n",
       "93861  2008-07-07         1      93861     93862.0\n",
       "93862  2008-07-08         1      93862     93863.0\n",
       "93863  2008-07-09         1      93863     93864.0"
      ]
     },
     "execution_count": 21,
     "metadata": {},
     "output_type": "execute_result"
    }
   ],
   "source": [
    "df2[[\"Date\", \"RainToday\", \"index_col\", \"next_index\"]].head(7)"
   ]
  },
  {
   "cell_type": "markdown",
   "metadata": {},
   "source": [
    "It is now straight forward to think about the numeric difference between these two variables. If the difference is greater than 1, it means that the current row is end of the interval:"
   ]
  },
  {
   "cell_type": "code",
   "execution_count": 22,
   "metadata": {},
   "outputs": [],
   "source": [
    "df2[\"end_of_interval\"] = df2[\"next_index\"] - df2[\"index_col\"] > 1"
   ]
  },
  {
   "cell_type": "markdown",
   "metadata": {},
   "source": [
    "You want to check the end result and see the encoded end of intervals:"
   ]
  },
  {
   "cell_type": "code",
   "execution_count": 23,
   "metadata": {},
   "outputs": [
    {
     "data": {
      "text/html": [
       "<div>\n",
       "<style scoped>\n",
       "    .dataframe tbody tr th:only-of-type {\n",
       "        vertical-align: middle;\n",
       "    }\n",
       "\n",
       "    .dataframe tbody tr th {\n",
       "        vertical-align: top;\n",
       "    }\n",
       "\n",
       "    .dataframe thead th {\n",
       "        text-align: right;\n",
       "    }\n",
       "</style>\n",
       "<table border=\"1\" class=\"dataframe\">\n",
       "  <thead>\n",
       "    <tr style=\"text-align: right;\">\n",
       "      <th></th>\n",
       "      <th>Date</th>\n",
       "      <th>RainToday</th>\n",
       "      <th>index_col</th>\n",
       "      <th>next_index</th>\n",
       "      <th>end_of_interval</th>\n",
       "    </tr>\n",
       "  </thead>\n",
       "  <tbody>\n",
       "    <tr>\n",
       "      <th>93856</th>\n",
       "      <td>2008-07-01</td>\n",
       "      <td>1</td>\n",
       "      <td>93856</td>\n",
       "      <td>93857.0</td>\n",
       "      <td>False</td>\n",
       "    </tr>\n",
       "    <tr>\n",
       "      <th>93857</th>\n",
       "      <td>2008-07-02</td>\n",
       "      <td>0</td>\n",
       "      <td>93857</td>\n",
       "      <td>93858.0</td>\n",
       "      <td>False</td>\n",
       "    </tr>\n",
       "    <tr>\n",
       "      <th>93858</th>\n",
       "      <td>2008-07-03</td>\n",
       "      <td>0</td>\n",
       "      <td>93858</td>\n",
       "      <td>93859.0</td>\n",
       "      <td>False</td>\n",
       "    </tr>\n",
       "    <tr>\n",
       "      <th>93859</th>\n",
       "      <td>2008-07-04</td>\n",
       "      <td>0</td>\n",
       "      <td>93859</td>\n",
       "      <td>93861.0</td>\n",
       "      <td>True</td>\n",
       "    </tr>\n",
       "    <tr>\n",
       "      <th>93861</th>\n",
       "      <td>2008-07-07</td>\n",
       "      <td>1</td>\n",
       "      <td>93861</td>\n",
       "      <td>93862.0</td>\n",
       "      <td>False</td>\n",
       "    </tr>\n",
       "    <tr>\n",
       "      <th>93862</th>\n",
       "      <td>2008-07-08</td>\n",
       "      <td>1</td>\n",
       "      <td>93862</td>\n",
       "      <td>93863.0</td>\n",
       "      <td>False</td>\n",
       "    </tr>\n",
       "    <tr>\n",
       "      <th>93863</th>\n",
       "      <td>2008-07-09</td>\n",
       "      <td>1</td>\n",
       "      <td>93863</td>\n",
       "      <td>93864.0</td>\n",
       "      <td>False</td>\n",
       "    </tr>\n",
       "  </tbody>\n",
       "</table>\n",
       "</div>"
      ],
      "text/plain": [
       "             Date RainToday  index_col  next_index  end_of_interval\n",
       "93856  2008-07-01         1      93856     93857.0            False\n",
       "93857  2008-07-02         0      93857     93858.0            False\n",
       "93858  2008-07-03         0      93858     93859.0            False\n",
       "93859  2008-07-04         0      93859     93861.0             True\n",
       "93861  2008-07-07         1      93861     93862.0            False\n",
       "93862  2008-07-08         1      93862     93863.0            False\n",
       "93863  2008-07-09         1      93863     93864.0            False"
      ]
     },
     "execution_count": 23,
     "metadata": {},
     "output_type": "execute_result"
    }
   ],
   "source": [
    "df2[[\"Date\", \"RainToday\", \"index_col\", \"next_index\", \"end_of_interval\"]].head(7)"
   ]
  },
  {
   "cell_type": "markdown",
   "metadata": {},
   "source": [
    "## C. Create `RainTomorrow`\n",
    "\n",
    "- You are going to utilize the idea of **shifting** again"
   ]
  },
  {
   "cell_type": "markdown",
   "metadata": {},
   "source": [
    "Now that you have the *end of intervals* set in your DataFrame:\n",
    "- You can shift all the values of `RainToday` variable 1 row up if the record is not for an interval end. \n",
    "- Naturally, this will generete 1s and 0s for rain and no rain events. But how about if there is no tomorrow?\n",
    "- If the record is for an interval end (meaning no tomorrow), you flag it with 2 to differenciate"
   ]
  },
  {
   "cell_type": "code",
   "execution_count": 24,
   "metadata": {},
   "outputs": [],
   "source": [
    "cond0 = df2[\"end_of_interval\"] == False\n",
    "cond1 = df2[\"end_of_interval\"] == True\n",
    "\n",
    "df2.loc[df2[cond0].index, \"RainTomorrow\"] = df2[\"RainToday\"].shift(-1)\n",
    "df2.loc[df2[cond1].index, \"RainTomorrow\"] = 2"
   ]
  },
  {
   "cell_type": "markdown",
   "metadata": {},
   "source": [
    "You check out your result to see if it is as expected:"
   ]
  },
  {
   "cell_type": "code",
   "execution_count": 25,
   "metadata": {},
   "outputs": [
    {
     "data": {
      "text/html": [
       "<div>\n",
       "<style scoped>\n",
       "    .dataframe tbody tr th:only-of-type {\n",
       "        vertical-align: middle;\n",
       "    }\n",
       "\n",
       "    .dataframe tbody tr th {\n",
       "        vertical-align: top;\n",
       "    }\n",
       "\n",
       "    .dataframe thead th {\n",
       "        text-align: right;\n",
       "    }\n",
       "</style>\n",
       "<table border=\"1\" class=\"dataframe\">\n",
       "  <thead>\n",
       "    <tr style=\"text-align: right;\">\n",
       "      <th></th>\n",
       "      <th>Date</th>\n",
       "      <th>Location</th>\n",
       "      <th>MinTemp</th>\n",
       "      <th>MaxTemp</th>\n",
       "      <th>Evaporation</th>\n",
       "      <th>Sunshine</th>\n",
       "      <th>WindGustDir</th>\n",
       "      <th>WindGustSpeed</th>\n",
       "      <th>WindDir9am</th>\n",
       "      <th>WindDir3pm</th>\n",
       "      <th>WindSpeed9am</th>\n",
       "      <th>WindSpeed3pm</th>\n",
       "      <th>Humidity9am</th>\n",
       "      <th>Humidity3pm</th>\n",
       "      <th>Pressure9am</th>\n",
       "      <th>Pressure3pm</th>\n",
       "      <th>Cloud9am</th>\n",
       "      <th>Cloud3pm</th>\n",
       "      <th>Temp9am</th>\n",
       "      <th>Temp3pm</th>\n",
       "      <th>RainToday</th>\n",
       "      <th>index_col</th>\n",
       "      <th>next_index</th>\n",
       "      <th>end_of_interval</th>\n",
       "      <th>RainTomorrow</th>\n",
       "    </tr>\n",
       "  </thead>\n",
       "  <tbody>\n",
       "    <tr>\n",
       "      <th>93856</th>\n",
       "      <td>2008-07-01</td>\n",
       "      <td>Adelaide</td>\n",
       "      <td>8.8</td>\n",
       "      <td>15.7</td>\n",
       "      <td>1.6</td>\n",
       "      <td>2.6</td>\n",
       "      <td>NW</td>\n",
       "      <td>48.0</td>\n",
       "      <td>SW</td>\n",
       "      <td>W</td>\n",
       "      <td>13.0</td>\n",
       "      <td>15.0</td>\n",
       "      <td>92.0</td>\n",
       "      <td>67.0</td>\n",
       "      <td>1017.4</td>\n",
       "      <td>1017.7</td>\n",
       "      <td>NaN</td>\n",
       "      <td>NaN</td>\n",
       "      <td>13.5</td>\n",
       "      <td>14.9</td>\n",
       "      <td>1</td>\n",
       "      <td>93856</td>\n",
       "      <td>93857.0</td>\n",
       "      <td>False</td>\n",
       "      <td>0</td>\n",
       "    </tr>\n",
       "    <tr>\n",
       "      <th>93857</th>\n",
       "      <td>2008-07-02</td>\n",
       "      <td>Adelaide</td>\n",
       "      <td>12.7</td>\n",
       "      <td>15.8</td>\n",
       "      <td>1.4</td>\n",
       "      <td>7.8</td>\n",
       "      <td>SW</td>\n",
       "      <td>35.0</td>\n",
       "      <td>SSW</td>\n",
       "      <td>SW</td>\n",
       "      <td>13.0</td>\n",
       "      <td>15.0</td>\n",
       "      <td>75.0</td>\n",
       "      <td>52.0</td>\n",
       "      <td>1022.4</td>\n",
       "      <td>1022.6</td>\n",
       "      <td>NaN</td>\n",
       "      <td>NaN</td>\n",
       "      <td>13.7</td>\n",
       "      <td>15.5</td>\n",
       "      <td>0</td>\n",
       "      <td>93857</td>\n",
       "      <td>93858.0</td>\n",
       "      <td>False</td>\n",
       "      <td>0</td>\n",
       "    </tr>\n",
       "    <tr>\n",
       "      <th>93858</th>\n",
       "      <td>2008-07-03</td>\n",
       "      <td>Adelaide</td>\n",
       "      <td>6.2</td>\n",
       "      <td>15.1</td>\n",
       "      <td>1.8</td>\n",
       "      <td>2.1</td>\n",
       "      <td>W</td>\n",
       "      <td>20.0</td>\n",
       "      <td>NNE</td>\n",
       "      <td>SW</td>\n",
       "      <td>2.0</td>\n",
       "      <td>11.0</td>\n",
       "      <td>81.0</td>\n",
       "      <td>56.0</td>\n",
       "      <td>1027.8</td>\n",
       "      <td>1026.5</td>\n",
       "      <td>NaN</td>\n",
       "      <td>NaN</td>\n",
       "      <td>9.3</td>\n",
       "      <td>13.9</td>\n",
       "      <td>0</td>\n",
       "      <td>93858</td>\n",
       "      <td>93859.0</td>\n",
       "      <td>False</td>\n",
       "      <td>0</td>\n",
       "    </tr>\n",
       "    <tr>\n",
       "      <th>93859</th>\n",
       "      <td>2008-07-04</td>\n",
       "      <td>Adelaide</td>\n",
       "      <td>5.3</td>\n",
       "      <td>15.9</td>\n",
       "      <td>1.4</td>\n",
       "      <td>8.0</td>\n",
       "      <td>NNE</td>\n",
       "      <td>30.0</td>\n",
       "      <td>NNE</td>\n",
       "      <td>NE</td>\n",
       "      <td>6.0</td>\n",
       "      <td>13.0</td>\n",
       "      <td>71.0</td>\n",
       "      <td>46.0</td>\n",
       "      <td>1028.7</td>\n",
       "      <td>1025.6</td>\n",
       "      <td>NaN</td>\n",
       "      <td>NaN</td>\n",
       "      <td>10.2</td>\n",
       "      <td>15.3</td>\n",
       "      <td>0</td>\n",
       "      <td>93859</td>\n",
       "      <td>93861.0</td>\n",
       "      <td>True</td>\n",
       "      <td>2</td>\n",
       "    </tr>\n",
       "    <tr>\n",
       "      <th>93861</th>\n",
       "      <td>2008-07-07</td>\n",
       "      <td>Adelaide</td>\n",
       "      <td>7.6</td>\n",
       "      <td>11.2</td>\n",
       "      <td>4.6</td>\n",
       "      <td>1.1</td>\n",
       "      <td>WSW</td>\n",
       "      <td>46.0</td>\n",
       "      <td>WNW</td>\n",
       "      <td>SW</td>\n",
       "      <td>17.0</td>\n",
       "      <td>13.0</td>\n",
       "      <td>83.0</td>\n",
       "      <td>88.0</td>\n",
       "      <td>1015.9</td>\n",
       "      <td>1017.9</td>\n",
       "      <td>NaN</td>\n",
       "      <td>NaN</td>\n",
       "      <td>9.8</td>\n",
       "      <td>9.3</td>\n",
       "      <td>1</td>\n",
       "      <td>93861</td>\n",
       "      <td>93862.0</td>\n",
       "      <td>False</td>\n",
       "      <td>1</td>\n",
       "    </tr>\n",
       "    <tr>\n",
       "      <th>93862</th>\n",
       "      <td>2008-07-08</td>\n",
       "      <td>Adelaide</td>\n",
       "      <td>5.3</td>\n",
       "      <td>13.5</td>\n",
       "      <td>0.6</td>\n",
       "      <td>2.1</td>\n",
       "      <td>SW</td>\n",
       "      <td>43.0</td>\n",
       "      <td>SW</td>\n",
       "      <td>WSW</td>\n",
       "      <td>11.0</td>\n",
       "      <td>22.0</td>\n",
       "      <td>73.0</td>\n",
       "      <td>91.0</td>\n",
       "      <td>1025.8</td>\n",
       "      <td>1025.9</td>\n",
       "      <td>NaN</td>\n",
       "      <td>NaN</td>\n",
       "      <td>10.9</td>\n",
       "      <td>10.8</td>\n",
       "      <td>1</td>\n",
       "      <td>93862</td>\n",
       "      <td>93863.0</td>\n",
       "      <td>False</td>\n",
       "      <td>1</td>\n",
       "    </tr>\n",
       "    <tr>\n",
       "      <th>93863</th>\n",
       "      <td>2008-07-09</td>\n",
       "      <td>Adelaide</td>\n",
       "      <td>8.4</td>\n",
       "      <td>14.3</td>\n",
       "      <td>1.6</td>\n",
       "      <td>0.8</td>\n",
       "      <td>NW</td>\n",
       "      <td>41.0</td>\n",
       "      <td>N</td>\n",
       "      <td>NW</td>\n",
       "      <td>9.0</td>\n",
       "      <td>19.0</td>\n",
       "      <td>90.0</td>\n",
       "      <td>64.0</td>\n",
       "      <td>1025.8</td>\n",
       "      <td>1022.7</td>\n",
       "      <td>NaN</td>\n",
       "      <td>NaN</td>\n",
       "      <td>10.8</td>\n",
       "      <td>13.5</td>\n",
       "      <td>1</td>\n",
       "      <td>93863</td>\n",
       "      <td>93864.0</td>\n",
       "      <td>False</td>\n",
       "      <td>1</td>\n",
       "    </tr>\n",
       "  </tbody>\n",
       "</table>\n",
       "</div>"
      ],
      "text/plain": [
       "             Date  Location  MinTemp  MaxTemp  Evaporation  Sunshine  \\\n",
       "93856  2008-07-01  Adelaide      8.8     15.7          1.6       2.6   \n",
       "93857  2008-07-02  Adelaide     12.7     15.8          1.4       7.8   \n",
       "93858  2008-07-03  Adelaide      6.2     15.1          1.8       2.1   \n",
       "93859  2008-07-04  Adelaide      5.3     15.9          1.4       8.0   \n",
       "93861  2008-07-07  Adelaide      7.6     11.2          4.6       1.1   \n",
       "93862  2008-07-08  Adelaide      5.3     13.5          0.6       2.1   \n",
       "93863  2008-07-09  Adelaide      8.4     14.3          1.6       0.8   \n",
       "\n",
       "      WindGustDir  WindGustSpeed WindDir9am WindDir3pm  WindSpeed9am  \\\n",
       "93856          NW           48.0         SW          W          13.0   \n",
       "93857          SW           35.0        SSW         SW          13.0   \n",
       "93858           W           20.0        NNE         SW           2.0   \n",
       "93859         NNE           30.0        NNE         NE           6.0   \n",
       "93861         WSW           46.0        WNW         SW          17.0   \n",
       "93862          SW           43.0         SW        WSW          11.0   \n",
       "93863          NW           41.0          N         NW           9.0   \n",
       "\n",
       "       WindSpeed3pm  Humidity9am  Humidity3pm  Pressure9am  Pressure3pm  \\\n",
       "93856          15.0         92.0         67.0       1017.4       1017.7   \n",
       "93857          15.0         75.0         52.0       1022.4       1022.6   \n",
       "93858          11.0         81.0         56.0       1027.8       1026.5   \n",
       "93859          13.0         71.0         46.0       1028.7       1025.6   \n",
       "93861          13.0         83.0         88.0       1015.9       1017.9   \n",
       "93862          22.0         73.0         91.0       1025.8       1025.9   \n",
       "93863          19.0         90.0         64.0       1025.8       1022.7   \n",
       "\n",
       "       Cloud9am  Cloud3pm  Temp9am  Temp3pm RainToday  index_col  next_index  \\\n",
       "93856       NaN       NaN     13.5     14.9         1      93856     93857.0   \n",
       "93857       NaN       NaN     13.7     15.5         0      93857     93858.0   \n",
       "93858       NaN       NaN      9.3     13.9         0      93858     93859.0   \n",
       "93859       NaN       NaN     10.2     15.3         0      93859     93861.0   \n",
       "93861       NaN       NaN      9.8      9.3         1      93861     93862.0   \n",
       "93862       NaN       NaN     10.9     10.8         1      93862     93863.0   \n",
       "93863       NaN       NaN     10.8     13.5         1      93863     93864.0   \n",
       "\n",
       "       end_of_interval RainTomorrow  \n",
       "93856            False            0  \n",
       "93857            False            0  \n",
       "93858            False            0  \n",
       "93859             True            2  \n",
       "93861            False            1  \n",
       "93862            False            1  \n",
       "93863            False            1  "
      ]
     },
     "execution_count": 25,
     "metadata": {},
     "output_type": "execute_result"
    }
   ],
   "source": [
    "df2.head(7)"
   ]
  },
  {
   "cell_type": "markdown",
   "metadata": {},
   "source": [
    "Congrats, you have reshaped your data and created the `RainTomorrow` variable with success. Now you have a target variable you can use to train your model. However, you will never use those helper columns you generated on the go again. So you want to drop them before you continue:"
   ]
  },
  {
   "cell_type": "code",
   "execution_count": 26,
   "metadata": {},
   "outputs": [],
   "source": [
    "cols_to_drop = [\"index_col\", \"next_index\", \"end_of_interval\"]\n",
    "df2.drop(cols_to_drop, axis=1, inplace=True)"
   ]
  },
  {
   "cell_type": "markdown",
   "metadata": {},
   "source": [
    "Since you will use this dataset quite often, you don't want to run all these code again and again. Instead you want to save it to your `data` folder and read it from there whenever you need:"
   ]
  },
  {
   "cell_type": "code",
   "execution_count": 27,
   "metadata": {},
   "outputs": [],
   "source": [
    "df2.to_csv(\"data/class_clean.csv\", index=False)"
   ]
  },
  {
   "cell_type": "markdown",
   "metadata": {},
   "source": [
    "## D. Explore some questions\n",
    "\n",
    "- In how many of the cases when it is raining today it also rained tomorrow?"
   ]
  },
  {
   "cell_type": "code",
   "execution_count": 30,
   "metadata": {},
   "outputs": [
    {
     "name": "stdout",
     "output_type": "stream",
     "text": [
      "14401 30811\n"
     ]
    }
   ],
   "source": [
    "cond0 = df2[\"RainToday\"] == 1\n",
    "cond1 = df2[\"RainTomorrow\"] == 1\n",
    "\n",
    "total_rain_tomorrow = len(df2[cond1])\n",
    "total_rain_today_and_tomorrow = len(df2[cond0 & cond1])\n",
    "\n",
    "print(total_rain_today_and_tomorrow, total_rain_tomorrow)"
   ]
  },
  {
   "cell_type": "markdown",
   "metadata": {},
   "source": [
    "You see that in almost 50% of the cases when it rains today it also rains tomorrow. You realize perhaps it can help you with predictions."
   ]
  },
  {
   "cell_type": "markdown",
   "metadata": {},
   "source": [
    "- What else? `Humidity` is often associated with the rain. You want to explore how the rain event is changing with the average `Humidity` next:\n",
    "\n",
    "You want to do it in a randomized fashion. Take random 300 datapoints and plot the `RainTomorrow` with a rolling average of `Humidity3pm`. You run this several times to see different points in time. "
   ]
  },
  {
   "cell_type": "code",
   "execution_count": 44,
   "metadata": {},
   "outputs": [
    {
     "data": {
      "image/png": "[encoded data removed]",
      "text/plain": [
       "<Figure size 1296x216 with 2 Axes>"
      ]
     },
     "metadata": {
      "needs_background": "light"
     },
     "output_type": "display_data"
    }
   ],
   "source": [
    "cond0 = (df2[\"RainTomorrow\"] == 1) | (df2[\"RainTomorrow\"] == 0)\n",
    "\n",
    "random_start = np.random.choice(df2[cond0].index)\n",
    "random_finish = random_start + 300\n",
    "\n",
    "fig, ax1 = plt.subplots(figsize=(18,3))\n",
    "\n",
    "ax2 = ax1.twinx()\n",
    "ax1.plot(df2[cond0].loc[random_start:random_finish, \"Humidity3pm\"].rolling(7).mean(), 'g-')\n",
    "ax2.plot(df2[cond0].loc[random_start:random_finish, \"RainTomorrow\"], 'o')\n",
    "\n",
    "ax1.set_xlabel('Time')\n",
    "ax1.set_ylabel('Humidity', color='g')\n",
    "ax2.set_ylabel('Rain Tomorrow', color='b')\n",
    "plt.title(\"Number of Rain events Changing with Humidity\")\n",
    "\n",
    "plt.show()"
   ]
  },
  {
   "cell_type": "markdown",
   "metadata": {},
   "source": [
    "You realize that there is a really a link between them. If we observe more humidity today, we observe more rain event for the next days. You are encoraged to drill this down to location level and practice further."
   ]
  },
  {
   "cell_type": "markdown",
   "metadata": {},
   "source": [
    "# 4. Modelling\n",
    "    The Zen: Wheather forecasting has a wet bias"
   ]
  },
  {
   "cell_type": "code",
   "execution_count": 84,
   "metadata": {},
   "outputs": [],
   "source": [
    "data = pd.read_csv(\"data/class_clean.csv\")"
   ]
  },
  {
   "cell_type": "code",
   "execution_count": 85,
   "metadata": {},
   "outputs": [],
   "source": [
    "cols = [\"Date\", \"Humidity3pm\", \"WindGustSpeed\", \"Pressure3pm\", \"Location\",\n",
    "        \"Temp3pm\", \"RainToday\", \"RainTomorrow\"]\n",
    "\n",
    "cond0 = data[\"RainTomorrow\"] == 2 # remove the cases without tomorrow\n",
    "cond1 = data[\"Date\"].str.contains(\"2017\") # remove 2017 because it will be our test set\n",
    "\n",
    "data2 = data[cols][~cond0 & ~cond1].drop(\"Date\", axis=1).dropna()"
   ]
  },
  {
   "cell_type": "markdown",
   "metadata": {},
   "source": [
    "How many rain events do you have? You can achieve this by counting the values of `RainTomorrow`:"
   ]
  },
  {
   "cell_type": "code",
   "execution_count": 118,
   "metadata": {},
   "outputs": [
    {
     "data": {
      "text/plain": [
       "0.0    87469\n",
       "1.0    24598\n",
       "Name: RainTomorrow, dtype: int64"
      ]
     },
     "execution_count": 118,
     "metadata": {},
     "output_type": "execute_result"
    }
   ],
   "source": [
    "data2[\"RainTomorrow\"].value_counts()"
   ]
  },
  {
   "cell_type": "markdown",
   "metadata": {},
   "source": [
    "You need establish a baseline from the beginning. Because if you build a model you need to be able compare and see if it makes sense. "
   ]
  },
  {
   "cell_type": "markdown",
   "metadata": {},
   "source": [
    "## A. Your baseline model\n",
    "\n",
    "- You have 22% rainy and 78% no rainy days in your data\n",
    "- You need to **beat this baseline**\n",
    "- Because a naive forecast would tell no rain by fault and get it right 78% of the time\n",
    "- Could you achieve a better result?\n",
    "- You will keep an eye on both the Confusion Matrix and the AUC\n",
    "- The data is unbalanced but not extremely."
   ]
  },
  {
   "cell_type": "code",
   "execution_count": 86,
   "metadata": {},
   "outputs": [
    {
     "data": {
      "text/html": [
       "<div>\n",
       "<style scoped>\n",
       "    .dataframe tbody tr th:only-of-type {\n",
       "        vertical-align: middle;\n",
       "    }\n",
       "\n",
       "    .dataframe tbody tr th {\n",
       "        vertical-align: top;\n",
       "    }\n",
       "\n",
       "    .dataframe thead th {\n",
       "        text-align: right;\n",
       "    }\n",
       "</style>\n",
       "<table border=\"1\" class=\"dataframe\">\n",
       "  <thead>\n",
       "    <tr style=\"text-align: right;\">\n",
       "      <th></th>\n",
       "      <th>Humidity3pm</th>\n",
       "      <th>WindGustSpeed</th>\n",
       "      <th>Pressure3pm</th>\n",
       "      <th>Location</th>\n",
       "      <th>Temp3pm</th>\n",
       "      <th>RainToday</th>\n",
       "      <th>RainTomorrow</th>\n",
       "    </tr>\n",
       "  </thead>\n",
       "  <tbody>\n",
       "    <tr>\n",
       "      <th>140606</th>\n",
       "      <td>47.0</td>\n",
       "      <td>46.0</td>\n",
       "      <td>1011.1</td>\n",
       "      <td>Woomera</td>\n",
       "      <td>25.8</td>\n",
       "      <td>1.0</td>\n",
       "      <td>0.0</td>\n",
       "    </tr>\n",
       "    <tr>\n",
       "      <th>140607</th>\n",
       "      <td>27.0</td>\n",
       "      <td>48.0</td>\n",
       "      <td>1007.5</td>\n",
       "      <td>Woomera</td>\n",
       "      <td>30.7</td>\n",
       "      <td>0.0</td>\n",
       "      <td>0.0</td>\n",
       "    </tr>\n",
       "    <tr>\n",
       "      <th>140608</th>\n",
       "      <td>30.0</td>\n",
       "      <td>56.0</td>\n",
       "      <td>1014.7</td>\n",
       "      <td>Woomera</td>\n",
       "      <td>26.7</td>\n",
       "      <td>0.0</td>\n",
       "      <td>0.0</td>\n",
       "    </tr>\n",
       "    <tr>\n",
       "      <th>140609</th>\n",
       "      <td>15.0</td>\n",
       "      <td>46.0</td>\n",
       "      <td>1014.5</td>\n",
       "      <td>Woomera</td>\n",
       "      <td>29.7</td>\n",
       "      <td>0.0</td>\n",
       "      <td>0.0</td>\n",
       "    </tr>\n",
       "    <tr>\n",
       "      <th>140610</th>\n",
       "      <td>32.0</td>\n",
       "      <td>46.0</td>\n",
       "      <td>1009.8</td>\n",
       "      <td>Woomera</td>\n",
       "      <td>29.7</td>\n",
       "      <td>0.0</td>\n",
       "      <td>0.0</td>\n",
       "    </tr>\n",
       "  </tbody>\n",
       "</table>\n",
       "</div>"
      ],
      "text/plain": [
       "        Humidity3pm  WindGustSpeed  Pressure3pm Location  Temp3pm  RainToday  \\\n",
       "140606         47.0           46.0       1011.1  Woomera     25.8        1.0   \n",
       "140607         27.0           48.0       1007.5  Woomera     30.7        0.0   \n",
       "140608         30.0           56.0       1014.7  Woomera     26.7        0.0   \n",
       "140609         15.0           46.0       1014.5  Woomera     29.7        0.0   \n",
       "140610         32.0           46.0       1009.8  Woomera     29.7        0.0   \n",
       "\n",
       "        RainTomorrow  \n",
       "140606           0.0  \n",
       "140607           0.0  \n",
       "140608           0.0  \n",
       "140609           0.0  \n",
       "140610           0.0  "
      ]
     },
     "execution_count": 86,
     "metadata": {},
     "output_type": "execute_result"
    }
   ],
   "source": [
    "data2.tail()"
   ]
  },
  {
   "cell_type": "code",
   "execution_count": 87,
   "metadata": {},
   "outputs": [],
   "source": [
    "data2[\"Location\"] = data2[\"Location\"].astype(\"category\").cat.codes\n",
    "data2[\"Location\"] = data2[\"Location\"].astype(\"category\")"
   ]
  },
  {
   "cell_type": "code",
   "execution_count": 88,
   "metadata": {},
   "outputs": [],
   "source": [
    "from sklearn import linear_model\n",
    "from sklearn import metrics\n",
    "from sklearn import model_selection\n",
    "\n",
    "from sklearn.model_selection import train_test_split\n",
    "from sklearn import preprocessing\n",
    "\n",
    "from sklearn.linear_model import LogisticRegressionCV\n",
    "from sklearn.metrics import accuracy_score, roc_auc_score, confusion_matrix"
   ]
  },
  {
   "cell_type": "code",
   "execution_count": 89,
   "metadata": {},
   "outputs": [],
   "source": [
    "X = data2.drop(\"RainTomorrow\", axis=1)\n",
    "y = data2[[\"RainTomorrow\"]]"
   ]
  },
  {
   "cell_type": "code",
   "execution_count": 90,
   "metadata": {},
   "outputs": [
    {
     "name": "stdout",
     "output_type": "stream",
     "text": [
      "<class 'pandas.core.frame.DataFrame'>\n",
      "Int64Index: 112067 entries, 0 to 140610\n",
      "Data columns (total 6 columns):\n",
      " #   Column         Non-Null Count   Dtype   \n",
      "---  ------         --------------   -----   \n",
      " 0   Humidity3pm    112067 non-null  float64 \n",
      " 1   WindGustSpeed  112067 non-null  float64 \n",
      " 2   Pressure3pm    112067 non-null  float64 \n",
      " 3   Location       112067 non-null  category\n",
      " 4   Temp3pm        112067 non-null  float64 \n",
      " 5   RainToday      112067 non-null  float64 \n",
      "dtypes: category(1), float64(5)\n",
      "memory usage: 5.2 MB\n"
     ]
    }
   ],
   "source": [
    "X.info()"
   ]
  },
  {
   "cell_type": "code",
   "execution_count": 92,
   "metadata": {},
   "outputs": [
    {
     "name": "stdout",
     "output_type": "stream",
     "text": [
      "Accuracy : 0.8433808045115465\n",
      "AUC : 0.712979886762349\n"
     ]
    }
   ],
   "source": [
    "#Logistic Regression \n",
    "\n",
    "X_train, X_test, y_train, y_test = train_test_split(X, y, test_size=0.25)\n",
    "\n",
    "clf_logreg = LogisticRegressionCV(cv=3, random_state=0)\n",
    "clf_logreg.fit(X_train, y_train)\n",
    "\n",
    "y_pred = clf_logreg.predict(X_test)\n",
    "\n",
    "acc_score = accuracy_score(y_test, y_pred)\n",
    "auc_score = roc_auc_score(y_test, y_pred)\n",
    "\n",
    "print('Accuracy :', acc_score)\n",
    "print('AUC :', auc_score)"
   ]
  },
  {
   "cell_type": "markdown",
   "metadata": {},
   "source": [
    "Congrats!!"
   ]
  },
  {
   "cell_type": "code",
   "execution_count": 109,
   "metadata": {},
   "outputs": [
    {
     "data": {
      "text/plain": [
       "array([[20645,  1124],\n",
       "       [ 3264,  2984]], dtype=int64)"
      ]
     },
     "execution_count": 109,
     "metadata": {},
     "output_type": "execute_result"
    }
   ],
   "source": [
    "cm1 = confusion_matrix(y_test, y_pred)\n",
    "cm1"
   ]
  },
  {
   "cell_type": "code",
   "execution_count": 110,
   "metadata": {},
   "outputs": [
    {
     "data": {
      "image/png": "[encoded data removed]",
      "text/plain": [
       "<Figure size 504x504 with 2 Axes>"
      ]
     },
     "metadata": {
      "needs_background": "light"
     },
     "output_type": "display_data"
    }
   ],
   "source": [
    "cm_matrix = pd.DataFrame(data=cm1, columns=['Pred NO rain: 0', 'Pred YES rain:1'], \n",
    "                                  index=['Actual NO rain: 0', 'Actual YES rain:1'])\n",
    "\n",
    "plt.figure(figsize=(7,7))\n",
    "sns.heatmap(cm_matrix, annot=True, fmt='d', cmap=\"Blues\")\n",
    "plt.title(\"confusion matrix\");"
   ]
  },
  {
   "cell_type": "markdown",
   "metadata": {},
   "source": [
    "### The Wet Bias:\n",
    "- You want to predict more rain\n",
    "- Because in this business people get **more angry** if you predict no rain and then it rains! They will get wet!\n",
    "- But they will forget if you predict rain and then nothing happens. The worst case scenario they will forget their umbrellas in the office."
   ]
  },
  {
   "cell_type": "code",
   "execution_count": 112,
   "metadata": {},
   "outputs": [
    {
     "data": {
      "text/plain": [
       "array([0.06833009, 0.22803845, 0.65046313, 0.01140274, 0.0122539 ,\n",
       "       0.00913232, 0.0523455 , 0.22517136, 0.03070655, 0.0301613 ])"
      ]
     },
     "execution_count": 112,
     "metadata": {},
     "output_type": "execute_result"
    }
   ],
   "source": [
    "pred_y = clf_logreg.predict(X_test) \n",
    "\n",
    "probs_y = clf_logreg.predict_proba(X_test)\n",
    "\n",
    "probs_y_rain = probs_y[:, 1]\n",
    "probs_y_rain[:10]"
   ]
  },
  {
   "cell_type": "code",
   "execution_count": 113,
   "metadata": {},
   "outputs": [
    {
     "data": {
      "image/png": "[encoded data removed]",
      "text/plain": [
       "<Figure size 432x288 with 1 Axes>"
      ]
     },
     "metadata": {
      "needs_background": "light"
     },
     "output_type": "display_data"
    }
   ],
   "source": [
    "plt.hist(probs_y_rain)\n",
    "plt.title(\"predicted probabilities of rain tomorrow event\")\n",
    "plt.axvline(x=0.5, c=\"red\", alpha=0.5)\n",
    "plt.axvline(x=0.4, c=\"green\", alpha=0.5);"
   ]
  },
  {
   "cell_type": "code",
   "execution_count": 114,
   "metadata": {},
   "outputs": [
    {
     "data": {
      "text/plain": [
       "[0, 0, 1, 0, 0]"
      ]
     },
     "execution_count": 114,
     "metadata": {},
     "output_type": "execute_result"
    }
   ],
   "source": [
    "updated_preds = [1 if i > 0.4 else 0 for i in probs_y_rain]\n",
    "updated_preds[:5]"
   ]
  },
  {
   "cell_type": "code",
   "execution_count": 115,
   "metadata": {},
   "outputs": [],
   "source": [
    "cm2 = confusion_matrix(y_test, updated_preds)"
   ]
  },
  {
   "cell_type": "code",
   "execution_count": 116,
   "metadata": {},
   "outputs": [
    {
     "data": {
      "image/png": "[encoded data removed]",
      "text/plain": [
       "<Figure size 504x504 with 2 Axes>"
      ]
     },
     "metadata": {
      "needs_background": "light"
     },
     "output_type": "display_data"
    }
   ],
   "source": [
    "cm_matrix = pd.DataFrame(data=cm2, columns=['Pred NO rain: 0', 'Pred YES rain:1'], \n",
    "                                  index=['Actual NO rain: 0', 'Actual YES rain:1'])\n",
    "\n",
    "plt.figure(figsize=(7,7))\n",
    "sns.heatmap(cm_matrix, annot=True, fmt='d', cmap=\"Blues\")\n",
    "plt.title(\"confusion matrix\");"
   ]
  },
  {
   "cell_type": "markdown",
   "metadata": {},
   "source": [
    "Correct the style and write more explanations here:\n",
    "\n",
    "- We are done! We have a new threshold\n",
    "- But what's going on here?\n",
    "- We reduced the False Negatives with the cost of increasing the False Positives\n",
    "- And this is not a problem in this business setting\n",
    "- Because the people will take their umbrella more often and then they will forget it in the office since no rain\n",
    "- However in the original setup they were told no rain and it was in fact raining (more often). Wet people lead to more anger!"
   ]
  },
  {
   "cell_type": "markdown",
   "metadata": {},
   "source": [
    "# 5. Evaluation\n",
    "    The Zen: Can you explain it to a 10 year old?"
   ]
  },
  {
   "cell_type": "markdown",
   "metadata": {},
   "source": [
    "You built your model using the data from 2007 to end of 2016. How would it perform on a year which the model has not seen before? What would be the performance on 2017?"
   ]
  },
  {
   "cell_type": "markdown",
   "metadata": {},
   "source": [
    "# 6. Deployment"
   ]
  },
  {
   "cell_type": "markdown",
   "metadata": {},
   "source": [
    "What are your alternatives for depoloying? Let's explore a few scenarios"
   ]
  },
  {
   "cell_type": "markdown",
   "metadata": {},
   "source": [
    "# Conclusion"
   ]
  },
  {
   "cell_type": "markdown",
   "metadata": {},
   "source": [
    "Congrats"
   ]
  },
  {
   "cell_type": "markdown",
   "metadata": {},
   "source": [
    "# Next Steps "
   ]
  },
  {
   "cell_type": "markdown",
   "metadata": {},
   "source": [
    "Do a **second** iteration from step 1 to 6:\n",
    "- Explore more variables\n",
    "- Try imputing the missing values and check if they help\n",
    "- Think about different models\n",
    "- How would you select which variable to use?\n",
    "- Try a regression model using the regression data in the `data` folder"
   ]
  },
  {
   "cell_type": "code",
   "execution_count": null,
   "metadata": {},
   "outputs": [],
   "source": []
  }
 ],
 "metadata": {
  "kernelspec": {
   "display_name": "Python 3",
   "language": "python",
   "name": "python3"
  },
  "language_info": {
   "codemirror_mode": {
    "name": "ipython",
    "version": 3
   },
   "file_extension": ".py",
   "mimetype": "text/x-python",
   "name": "python",
   "nbconvert_exporter": "python",
   "pygments_lexer": "ipython3",
   "version": "3.6.10"
  }
 },
 "nbformat": 4,
 "nbformat_minor": 4
}
